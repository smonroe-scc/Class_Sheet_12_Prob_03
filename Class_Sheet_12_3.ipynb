{
 "cells": [
  {
   "cell_type": "markdown",
   "id": "bd73651c-a75d-4dfb-8ca9-cfff45858cd1",
   "metadata": {},
   "source": [
    "# Class Sheet12, Problem 3"
   ]
  },
  {
   "cell_type": "code",
   "execution_count": 2,
   "id": "4325143a-eecc-4cd2-9f51-2a6747308c90",
   "metadata": {
    "panel-layout": {
     "height": 0,
     "visible": true,
     "width": 100
    }
   },
   "outputs": [
    {
     "name": "stdout",
     "output_type": "stream",
     "text": [
      "Author        : S Monroe\n",
      "Version       : 3.12.4 | packaged by Anaconda, Inc. | (main, Jun 18 2024, 15:03:56) [MSC v.1929 64 bit (AMD64)]\n",
      "NumPy lib     : 1.26.4\n",
      "Encoding      : utf-8\n",
      "Timestamp     : 1727723123.541986\n"
     ]
    }
   ],
   "source": [
    "from math import cos, sin, tan, acos, asin, atan, atan2, degrees, radians\n",
    "from numpy import reciprocal, pi, sqrt, angle, exp\n",
    "import numpy as np\n",
    "import time, sys\n",
    "\n",
    "#hextime=float.hex(time.time())\n",
    "\n",
    "# The foregoing is a clunky way to do this\n",
    "# Haven't spent a lot of time thinking through a more elegant solution\n",
    "\n",
    "def cosd(x):\n",
    "  return cos(radians(x))\n",
    "\n",
    "def sind(x):\n",
    "  return sin(radians(x))\n",
    "\n",
    "def tand(x):\n",
    "  return tan(radians(x))\n",
    "\n",
    "def acosd(x):\n",
    "  return degrees(acos(x))\n",
    "\n",
    "def asind(x):\n",
    "  return degrees(asin(x))\n",
    "\n",
    "def atand(x):\n",
    "  return degrees(atan(x))\n",
    "\n",
    "def atan2d(y, x):\n",
    "  return degrees(atan2(y, x))\n",
    "\n",
    "## Now define conversion functions:\n",
    "\n",
    "def P2R(radii, angles):\n",
    "    return radii * exp(1j*angles*(pi/180))\n",
    "\n",
    "def R2P(x):\n",
    "    return abs(x), angle(x, deg=True)\n",
    "\n",
    "def to_engineering_notation(num):\n",
    "    if num == 0:\n",
    "        return \"0E0\"\n",
    "\n",
    "    # Determine the sign of the number\n",
    "    sign = '-' if num < 0 else ''\n",
    "    num = abs(num)\n",
    "\n",
    "    # Find the exponent as a multiple of 3\n",
    "    exponent = 0\n",
    "    while num >= 1000:\n",
    "        num /= 1000\n",
    "        exponent += 3\n",
    "    while num < 1:\n",
    "        num *= 1000\n",
    "        exponent -= 3\n",
    "\n",
    "# Format the number in engineering notation with precision at partiy with test equipment\n",
    "    return f\"{sign}{num:.5f}E{exponent}\"\n",
    "\n",
    "# Example usage (just to remind you ///sjm 20240930T0743):\n",
    "#numbers = [123456789, 0.0001234, -0.00001234, 1000, -1234.56, 9876543210]\n",
    "#for number in numbers:\n",
    "#number=-72.34E-7\n",
    "#print(f\"{to_engineering_notation(number)}\")\n",
    "\n",
    "print(\"Author        : S Monroe\")\n",
    "print(\"Version       :\",sys.version[0:100])\n",
    "print(\"NumPy lib     :\",np.version.version)\n",
    "print(\"Encoding      :\",sys.getdefaultencoding())\n",
    "print(\"Timestamp     :\",time.time())"
   ]
  },
  {
   "cell_type": "code",
   "execution_count": 3,
   "id": "863aa393-b74d-4a22-af37-f6e2af037ab9",
   "metadata": {},
   "outputs": [],
   "source": [
    "VCC=20.\n",
    "RE=200.\n",
    "RC=1000.\n",
    "β=100.\n",
    "VJ=700.0E-3\n",
    "R2=3300."
   ]
  },
  {
   "cell_type": "markdown",
   "id": "44ac6f42-bcc9-49f4-a8f7-ff32d2580d19",
   "metadata": {
    "panel-layout": {
     "height": 51.15000915527344,
     "visible": true,
     "width": 100
    }
   },
   "source": [
    "Network Parameters Given:"
   ]
  },
  {
   "cell_type": "code",
   "execution_count": 5,
   "id": "12b5b280-dc93-42b6-b0e8-fe5b4e414b95",
   "metadata": {},
   "outputs": [],
   "source": [
    "VOUT=12."
   ]
  },
  {
   "cell_type": "code",
   "execution_count": 6,
   "id": "0a3a38d5-9546-43ac-9b9a-039122600de8",
   "metadata": {
    "panel-layout": {
     "height": 0,
     "visible": true,
     "width": 100
    }
   },
   "outputs": [
    {
     "name": "stdout",
     "output_type": "stream",
     "text": [
      "IC=8.00000E-3 A\n"
     ]
    }
   ],
   "source": [
    "VRC=VCC-VOUT\n",
    "IC=VRC/RC\n",
    "print(f\"IC={to_engineering_notation(IC)} A\")"
   ]
  },
  {
   "cell_type": "code",
   "execution_count": 7,
   "id": "19618d68-dc36-4dce-ab70-92e72ca8a377",
   "metadata": {
    "panel-layout": {
     "height": 0,
     "visible": true,
     "width": 100
    }
   },
   "outputs": [
    {
     "name": "stdout",
     "output_type": "stream",
     "text": [
      "VB=2.30000E0 V\n",
      "IB=80.00000E-6 A\n"
     ]
    }
   ],
   "source": [
    "IB=IC/β\n",
    "VE=IC*RE\n",
    "VB=VE+VJ\n",
    "print(f\"VB={to_engineering_notation(VB)} V\")\n",
    "print(f\"IB={to_engineering_notation(IB)} A\")"
   ]
  },
  {
   "cell_type": "markdown",
   "id": "7a452f30-5021-4977-98be-cbb3a9e22902",
   "metadata": {
    "panel-layout": {
     "height": 234.65000915527344,
     "visible": true,
     "width": 100
    }
   },
   "source": [
    "Use the relation,<br><br>\n",
    "\n",
    "$$V_B=\\frac{R_2 \\cdot V_{CC}}{R_1+R_2}$$\n",
    "$$R_T=R_1+R_2$$\n",
    "$$\\therefore$$\n",
    "$$V_B=\\frac{R_2 \\cdot V_{CC}}{R_T}$$\n",
    "Isolate for $R_T$,\n",
    "$$\\frac{3300 \\cdot 20}{R_T}=2.3$$\n",
    "$$66000=2.3 \\cdot R_T$$\n",
    "$$\\therefore$$\n",
    "$$R_T=\\frac{66000}{2.3}$$"
   ]
  },
  {
   "cell_type": "code",
   "execution_count": 9,
   "id": "87566145-2484-4a93-8cda-282e051eb406",
   "metadata": {
    "panel-layout": {
     "height": 0,
     "visible": true,
     "width": 100
    }
   },
   "outputs": [
    {
     "name": "stdout",
     "output_type": "stream",
     "text": [
      "RT=28.69565E3 Ω\n"
     ]
    }
   ],
   "source": [
    "RT=(R2*VCC)/VB\n",
    "print(f\"RT={to_engineering_notation(RT)} \\u03a9\")"
   ]
  },
  {
   "cell_type": "code",
   "execution_count": 10,
   "id": "4310e836-4025-41fd-baf9-773327d5b46c",
   "metadata": {
    "panel-layout": {
     "height": 0,
     "visible": true,
     "width": 100
    }
   },
   "outputs": [
    {
     "name": "stdout",
     "output_type": "stream",
     "text": [
      "R1=25.39565E3 Ω\n"
     ]
    }
   ],
   "source": [
    "R1=RT-R2\n",
    "print(f\"R1={to_engineering_notation(R1)} \\u03a9\")"
   ]
  }
 ],
 "metadata": {
  "kernelspec": {
   "display_name": "Python 3 (ipykernel)",
   "language": "python",
   "name": "python3"
  },
  "language_info": {
   "codemirror_mode": {
    "name": "ipython",
    "version": 3
   },
   "file_extension": ".py",
   "mimetype": "text/x-python",
   "name": "python",
   "nbconvert_exporter": "python",
   "pygments_lexer": "ipython3",
   "version": "3.12.4"
  },
  "panel-cell-order": [
   "4325143a-eecc-4cd2-9f51-2a6747308c90",
   "44ac6f42-bcc9-49f4-a8f7-ff32d2580d19",
   "0a3a38d5-9546-43ac-9b9a-039122600de8",
   "19618d68-dc36-4dce-ab70-92e72ca8a377",
   "7a452f30-5021-4977-98be-cbb3a9e22902",
   "87566145-2484-4a93-8cda-282e051eb406",
   "4310e836-4025-41fd-baf9-773327d5b46c"
  ]
 },
 "nbformat": 4,
 "nbformat_minor": 5
}
